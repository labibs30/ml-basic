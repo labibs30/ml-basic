{
 "cells": [
  {
   "cell_type": "code",
   "execution_count": 3,
   "id": "fe897c84",
   "metadata": {},
   "outputs": [
    {
     "data": {
      "text/html": [
       "<div>\n",
       "<style scoped>\n",
       "    .dataframe tbody tr th:only-of-type {\n",
       "        vertical-align: middle;\n",
       "    }\n",
       "\n",
       "    .dataframe tbody tr th {\n",
       "        vertical-align: top;\n",
       "    }\n",
       "\n",
       "    .dataframe thead th {\n",
       "        text-align: right;\n",
       "    }\n",
       "</style>\n",
       "<table border=\"1\" class=\"dataframe\">\n",
       "  <thead>\n",
       "    <tr style=\"text-align: right;\">\n",
       "      <th></th>\n",
       "      <th>INCOME</th>\n",
       "      <th>SPEND</th>\n",
       "    </tr>\n",
       "  </thead>\n",
       "  <tbody>\n",
       "    <tr>\n",
       "      <th>0</th>\n",
       "      <td>233</td>\n",
       "      <td>150</td>\n",
       "    </tr>\n",
       "    <tr>\n",
       "      <th>1</th>\n",
       "      <td>250</td>\n",
       "      <td>187</td>\n",
       "    </tr>\n",
       "    <tr>\n",
       "      <th>2</th>\n",
       "      <td>204</td>\n",
       "      <td>172</td>\n",
       "    </tr>\n",
       "    <tr>\n",
       "      <th>3</th>\n",
       "      <td>236</td>\n",
       "      <td>178</td>\n",
       "    </tr>\n",
       "    <tr>\n",
       "      <th>4</th>\n",
       "      <td>354</td>\n",
       "      <td>163</td>\n",
       "    </tr>\n",
       "    <tr>\n",
       "      <th>...</th>\n",
       "      <td>...</td>\n",
       "      <td>...</td>\n",
       "    </tr>\n",
       "    <tr>\n",
       "      <th>298</th>\n",
       "      <td>241</td>\n",
       "      <td>123</td>\n",
       "    </tr>\n",
       "    <tr>\n",
       "      <th>299</th>\n",
       "      <td>264</td>\n",
       "      <td>132</td>\n",
       "    </tr>\n",
       "    <tr>\n",
       "      <th>300</th>\n",
       "      <td>193</td>\n",
       "      <td>141</td>\n",
       "    </tr>\n",
       "    <tr>\n",
       "      <th>301</th>\n",
       "      <td>131</td>\n",
       "      <td>115</td>\n",
       "    </tr>\n",
       "    <tr>\n",
       "      <th>302</th>\n",
       "      <td>236</td>\n",
       "      <td>174</td>\n",
       "    </tr>\n",
       "  </tbody>\n",
       "</table>\n",
       "<p>303 rows × 2 columns</p>\n",
       "</div>"
      ],
      "text/plain": [
       "     INCOME  SPEND\n",
       "0       233    150\n",
       "1       250    187\n",
       "2       204    172\n",
       "3       236    178\n",
       "4       354    163\n",
       "..      ...    ...\n",
       "298     241    123\n",
       "299     264    132\n",
       "300     193    141\n",
       "301     131    115\n",
       "302     236    174\n",
       "\n",
       "[303 rows x 2 columns]"
      ]
     },
     "execution_count": 3,
     "metadata": {},
     "output_type": "execute_result"
    }
   ],
   "source": [
    "import pandas as pd\n",
    "import seaborn as sns\n",
    "import matplotlib.pyplot as plt\n",
    "from sklearn.preprocessing import StandardScaler\n",
    "from sklearn.cluster import KMeans\n",
    "df_income = pd.read_csv('data/clustering.csv')\n",
    "df_income"
   ]
  },
  {
   "cell_type": "code",
   "execution_count": 2,
   "id": "6198de3e",
   "metadata": {},
   "outputs": [
    {
     "name": "stdout",
     "output_type": "stream",
     "text": [
      "<class 'pandas.core.frame.DataFrame'>\n",
      "RangeIndex: 303 entries, 0 to 302\n",
      "Data columns (total 2 columns):\n",
      " #   Column  Non-Null Count  Dtype\n",
      "---  ------  --------------  -----\n",
      " 0   INCOME  303 non-null    int64\n",
      " 1   SPEND   303 non-null    int64\n",
      "dtypes: int64(2)\n",
      "memory usage: 4.9 KB\n"
     ]
    }
   ],
   "source": [
    "df_income.info()"
   ]
  },
  {
   "cell_type": "code",
   "execution_count": 3,
   "id": "e3fc609d",
   "metadata": {},
   "outputs": [
    {
     "data": {
      "text/html": [
       "<div>\n",
       "<style scoped>\n",
       "    .dataframe tbody tr th:only-of-type {\n",
       "        vertical-align: middle;\n",
       "    }\n",
       "\n",
       "    .dataframe tbody tr th {\n",
       "        vertical-align: top;\n",
       "    }\n",
       "\n",
       "    .dataframe thead th {\n",
       "        text-align: right;\n",
       "    }\n",
       "</style>\n",
       "<table border=\"1\" class=\"dataframe\">\n",
       "  <thead>\n",
       "    <tr style=\"text-align: right;\">\n",
       "      <th></th>\n",
       "      <th>count</th>\n",
       "      <th>mean</th>\n",
       "      <th>std</th>\n",
       "      <th>min</th>\n",
       "      <th>25%</th>\n",
       "      <th>50%</th>\n",
       "      <th>75%</th>\n",
       "      <th>max</th>\n",
       "    </tr>\n",
       "  </thead>\n",
       "  <tbody>\n",
       "    <tr>\n",
       "      <th>INCOME</th>\n",
       "      <td>303.0</td>\n",
       "      <td>245.273927</td>\n",
       "      <td>48.499412</td>\n",
       "      <td>126.0</td>\n",
       "      <td>211.0</td>\n",
       "      <td>240.0</td>\n",
       "      <td>274.0</td>\n",
       "      <td>417.0</td>\n",
       "    </tr>\n",
       "    <tr>\n",
       "      <th>SPEND</th>\n",
       "      <td>303.0</td>\n",
       "      <td>149.646865</td>\n",
       "      <td>22.905161</td>\n",
       "      <td>71.0</td>\n",
       "      <td>133.5</td>\n",
       "      <td>153.0</td>\n",
       "      <td>166.0</td>\n",
       "      <td>202.0</td>\n",
       "    </tr>\n",
       "  </tbody>\n",
       "</table>\n",
       "</div>"
      ],
      "text/plain": [
       "        count        mean        std    min    25%    50%    75%    max\n",
       "INCOME  303.0  245.273927  48.499412  126.0  211.0  240.0  274.0  417.0\n",
       "SPEND   303.0  149.646865  22.905161   71.0  133.5  153.0  166.0  202.0"
      ]
     },
     "execution_count": 3,
     "metadata": {},
     "output_type": "execute_result"
    }
   ],
   "source": [
    "df_income.describe().transpose()"
   ]
  },
  {
   "cell_type": "code",
   "execution_count": 4,
   "id": "3ef1609a",
   "metadata": {},
   "outputs": [
    {
     "name": "stdout",
     "output_type": "stream",
     "text": [
      "['INCOME', 'SPEND']\n"
     ]
    }
   ],
   "source": [
    "scaler = StandardScaler()\n",
    "\n",
    "column_names = df_income.columns.tolist()\n",
    "\n",
    "print(column_names)"
   ]
  },
  {
   "cell_type": "code",
   "execution_count": 5,
   "id": "0bd9ee4a",
   "metadata": {},
   "outputs": [
    {
     "data": {
      "text/html": [
       "<div>\n",
       "<style scoped>\n",
       "    .dataframe tbody tr th:only-of-type {\n",
       "        vertical-align: middle;\n",
       "    }\n",
       "\n",
       "    .dataframe tbody tr th {\n",
       "        vertical-align: top;\n",
       "    }\n",
       "\n",
       "    .dataframe thead th {\n",
       "        text-align: right;\n",
       "    }\n",
       "</style>\n",
       "<table border=\"1\" class=\"dataframe\">\n",
       "  <thead>\n",
       "    <tr style=\"text-align: right;\">\n",
       "      <th></th>\n",
       "      <th>INCOME</th>\n",
       "      <th>SPEND</th>\n",
       "    </tr>\n",
       "  </thead>\n",
       "  <tbody>\n",
       "    <tr>\n",
       "      <th>0</th>\n",
       "      <td>-0.253492</td>\n",
       "      <td>0.015443</td>\n",
       "    </tr>\n",
       "    <tr>\n",
       "      <th>1</th>\n",
       "      <td>0.097607</td>\n",
       "      <td>1.633471</td>\n",
       "    </tr>\n",
       "    <tr>\n",
       "      <th>2</th>\n",
       "      <td>-0.852427</td>\n",
       "      <td>0.977514</td>\n",
       "    </tr>\n",
       "    <tr>\n",
       "      <th>3</th>\n",
       "      <td>-0.191534</td>\n",
       "      <td>1.239897</td>\n",
       "    </tr>\n",
       "    <tr>\n",
       "      <th>4</th>\n",
       "      <td>2.245510</td>\n",
       "      <td>0.583939</td>\n",
       "    </tr>\n",
       "    <tr>\n",
       "      <th>...</th>\n",
       "      <td>...</td>\n",
       "      <td>...</td>\n",
       "    </tr>\n",
       "    <tr>\n",
       "      <th>298</th>\n",
       "      <td>-0.088269</td>\n",
       "      <td>-1.165281</td>\n",
       "    </tr>\n",
       "    <tr>\n",
       "      <th>299</th>\n",
       "      <td>0.386748</td>\n",
       "      <td>-0.771706</td>\n",
       "    </tr>\n",
       "    <tr>\n",
       "      <th>300</th>\n",
       "      <td>-1.079609</td>\n",
       "      <td>-0.378132</td>\n",
       "    </tr>\n",
       "    <tr>\n",
       "      <th>301</th>\n",
       "      <td>-2.360090</td>\n",
       "      <td>-1.515125</td>\n",
       "    </tr>\n",
       "    <tr>\n",
       "      <th>302</th>\n",
       "      <td>-0.191534</td>\n",
       "      <td>1.064975</td>\n",
       "    </tr>\n",
       "  </tbody>\n",
       "</table>\n",
       "<p>303 rows × 2 columns</p>\n",
       "</div>"
      ],
      "text/plain": [
       "       INCOME     SPEND\n",
       "0   -0.253492  0.015443\n",
       "1    0.097607  1.633471\n",
       "2   -0.852427  0.977514\n",
       "3   -0.191534  1.239897\n",
       "4    2.245510  0.583939\n",
       "..        ...       ...\n",
       "298 -0.088269 -1.165281\n",
       "299  0.386748 -0.771706\n",
       "300 -1.079609 -0.378132\n",
       "301 -2.360090 -1.515125\n",
       "302 -0.191534  1.064975\n",
       "\n",
       "[303 rows x 2 columns]"
      ]
     },
     "execution_count": 5,
     "metadata": {},
     "output_type": "execute_result"
    }
   ],
   "source": [
    "df_income[column_names] = scaler.fit_transform(df_income[column_names])\n",
    "df_income.sort_index(inplace = True)\n",
    "df_income\n"
   ]
  },
  {
   "cell_type": "code",
   "execution_count": 6,
   "id": "3f739514",
   "metadata": {},
   "outputs": [
    {
     "data": {
      "text/plain": [
       "Text(0, 0.5, 'Annual Spend')"
      ]
     },
     "execution_count": 6,
     "metadata": {},
     "output_type": "execute_result"
    },
    {
     "data": {
      "image/png": "[encoded data removed]",
      "text/plain": [
       "<Figure size 1152x648 with 1 Axes>"
      ]
     },
     "metadata": {},
     "output_type": "display_data"
    }
   ],
   "source": [
    "sns.set()\n",
    "plt.rcParams['figure.figsize'] = (16,9)\n",
    "\n",
    "sns.scatterplot(x = 'INCOME', y = 'SPEND', data = df_income)\n",
    "plt.title('Customer segments')\n",
    "plt.xlabel('Annual Income')\n",
    "plt.ylabel('Annual Spend')"
   ]
  },
  {
   "cell_type": "code",
   "execution_count": 22,
   "id": "ff08fc4f",
   "metadata": {},
   "outputs": [
    {
     "data": {
      "text/plain": [
       "array([0, 0, 0, 0, 1, 3, 1, 0, 0, 0, 0, 1, 1, 3, 1, 0, 1, 3, 0, 0, 0, 0,\n",
       "       0, 3, 0, 1, 0, 3, 1, 0, 0, 3, 0, 1, 3, 0, 1, 0, 1, 1, 1, 0, 3, 1,\n",
       "       1, 1, 0, 1, 3, 0, 1, 1, 3, 0, 0, 0, 0, 0, 0, 1, 2, 1, 0, 3, 0, 0,\n",
       "       3, 0, 0, 0, 1, 0, 0, 0, 0, 0, 0, 0, 0, 0, 0, 1, 1, 1, 2, 1, 1, 0,\n",
       "       0, 2, 0, 0, 0, 1, 3, 3, 1, 3, 1, 0, 0, 1, 0, 0, 0, 3, 3, 0, 0, 0,\n",
       "       1, 0, 1, 0, 1, 0, 0, 0, 0, 0, 2, 0, 1, 1, 0, 0, 3, 1, 0, 2, 0, 1,\n",
       "       1, 0, 1, 1, 3, 3, 3, 2, 1, 1, 0, 3, 3, 3, 0, 0, 0, 3, 3, 3, 0, 1,\n",
       "       0, 3, 0, 0, 3, 0, 0, 1, 0, 0, 0, 2, 3, 1, 1, 0, 1, 0, 1, 0, 3, 3,\n",
       "       0, 1, 3, 2, 1, 3, 1, 0, 3, 1, 1, 2, 0, 0, 1, 3, 3, 1, 0, 1, 3, 0,\n",
       "       2, 0, 0, 1, 2, 1, 3, 0, 3, 1, 3, 0, 0, 1, 3, 1, 3, 1, 2, 1, 2, 1,\n",
       "       1, 3, 1, 2, 3, 3, 2, 3, 1, 2, 0, 2, 1, 2, 2, 1, 1, 1, 1, 1, 2, 3,\n",
       "       3, 2, 3, 1, 1, 2, 1, 1, 2, 3, 2, 2, 2, 1, 2, 3, 0, 0, 0, 0, 2, 1,\n",
       "       3, 3, 2, 3, 2, 2, 3, 3, 2, 0, 2, 0, 3, 1, 1, 3, 2, 0, 3, 0, 3, 2,\n",
       "       0, 0, 1, 3, 0, 1, 3, 0, 3, 3, 3, 3, 3, 2, 3, 3, 0])"
      ]
     },
     "execution_count": 22,
     "metadata": {},
     "output_type": "execute_result"
    }
   ],
   "source": [
    "kmeans = KMeans(n_clusters = 4,init='k-means++', max_iter=300,n_init=10,random_state = 0)\n",
    "income = df_income[['INCOME','SPEND']]\n",
    "cluster = kmeans.fit_predict(income)\n",
    "cluster"
   ]
  },
  {
   "cell_type": "code",
   "execution_count": 28,
   "id": "2b83cc6f",
   "metadata": {},
   "outputs": [
    {
     "data": {
      "text/html": [
       "<div>\n",
       "<style scoped>\n",
       "    .dataframe tbody tr th:only-of-type {\n",
       "        vertical-align: middle;\n",
       "    }\n",
       "\n",
       "    .dataframe tbody tr th {\n",
       "        vertical-align: top;\n",
       "    }\n",
       "\n",
       "    .dataframe thead th {\n",
       "        text-align: right;\n",
       "    }\n",
       "</style>\n",
       "<table border=\"1\" class=\"dataframe\">\n",
       "  <thead>\n",
       "    <tr style=\"text-align: right;\">\n",
       "      <th></th>\n",
       "      <th>INCOME</th>\n",
       "      <th>SPEND</th>\n",
       "      <th>cluster</th>\n",
       "    </tr>\n",
       "  </thead>\n",
       "  <tbody>\n",
       "    <tr>\n",
       "      <th>0</th>\n",
       "      <td>-0.253492</td>\n",
       "      <td>0.015443</td>\n",
       "      <td>0</td>\n",
       "    </tr>\n",
       "    <tr>\n",
       "      <th>1</th>\n",
       "      <td>0.097607</td>\n",
       "      <td>1.633471</td>\n",
       "      <td>0</td>\n",
       "    </tr>\n",
       "    <tr>\n",
       "      <th>2</th>\n",
       "      <td>-0.852427</td>\n",
       "      <td>0.977514</td>\n",
       "      <td>0</td>\n",
       "    </tr>\n",
       "    <tr>\n",
       "      <th>3</th>\n",
       "      <td>-0.191534</td>\n",
       "      <td>1.239897</td>\n",
       "      <td>0</td>\n",
       "    </tr>\n",
       "    <tr>\n",
       "      <th>4</th>\n",
       "      <td>2.245510</td>\n",
       "      <td>0.583939</td>\n",
       "      <td>1</td>\n",
       "    </tr>\n",
       "    <tr>\n",
       "      <th>...</th>\n",
       "      <td>...</td>\n",
       "      <td>...</td>\n",
       "      <td>...</td>\n",
       "    </tr>\n",
       "    <tr>\n",
       "      <th>298</th>\n",
       "      <td>-0.088269</td>\n",
       "      <td>-1.165281</td>\n",
       "      <td>3</td>\n",
       "    </tr>\n",
       "    <tr>\n",
       "      <th>299</th>\n",
       "      <td>0.386748</td>\n",
       "      <td>-0.771706</td>\n",
       "      <td>2</td>\n",
       "    </tr>\n",
       "    <tr>\n",
       "      <th>300</th>\n",
       "      <td>-1.079609</td>\n",
       "      <td>-0.378132</td>\n",
       "      <td>3</td>\n",
       "    </tr>\n",
       "    <tr>\n",
       "      <th>301</th>\n",
       "      <td>-2.360090</td>\n",
       "      <td>-1.515125</td>\n",
       "      <td>3</td>\n",
       "    </tr>\n",
       "    <tr>\n",
       "      <th>302</th>\n",
       "      <td>-0.191534</td>\n",
       "      <td>1.064975</td>\n",
       "      <td>0</td>\n",
       "    </tr>\n",
       "  </tbody>\n",
       "</table>\n",
       "<p>303 rows × 3 columns</p>\n",
       "</div>"
      ],
      "text/plain": [
       "       INCOME     SPEND  cluster\n",
       "0   -0.253492  0.015443        0\n",
       "1    0.097607  1.633471        0\n",
       "2   -0.852427  0.977514        0\n",
       "3   -0.191534  1.239897        0\n",
       "4    2.245510  0.583939        1\n",
       "..        ...       ...      ...\n",
       "298 -0.088269 -1.165281        3\n",
       "299  0.386748 -0.771706        2\n",
       "300 -1.079609 -0.378132        3\n",
       "301 -2.360090 -1.515125        3\n",
       "302 -0.191534  1.064975        0\n",
       "\n",
       "[303 rows x 3 columns]"
      ]
     },
     "execution_count": 28,
     "metadata": {},
     "output_type": "execute_result"
    }
   ],
   "source": [
    "df_income['cluster'] = cluster\n",
    "df_income"
   ]
  },
  {
   "cell_type": "code",
   "execution_count": 33,
   "id": "9fe44ec0",
   "metadata": {},
   "outputs": [
    {
     "data": {
      "image/png": "[encoded data removed]",
      "text/plain": [
       "<Figure size 1152x648 with 1 Axes>"
      ]
     },
     "metadata": {},
     "output_type": "display_data"
    }
   ],
   "source": [
    "df_income1 = df_income[df_income.cluster == 0]\n",
    "df_income2 = df_income[df_income.cluster == 1]\n",
    "df_income3 = df_income[df_income.cluster == 2]\n",
    "df_income4 = df_income[df_income.cluster == 3]\n",
    "\n",
    "plt.scatter(df_income1['INCOME'], df_income1['SPEND'], color='red', label='Cluster 1')\n",
    "plt.scatter(df_income2['INCOME'], df_income2['SPEND'], color='blue', label='Cluster 2')\n",
    "plt.scatter(df_income3['INCOME'], df_income3['SPEND'], color='yellow', label='Cluster 3')\n",
    "plt.scatter(df_income4['INCOME'], df_income4['SPEND'], color='green', label='Cluster 4')\n",
    "\n",
    "plt.title('Customer segments')\n",
    "plt.xlabel('Annual Income')\n",
    "plt.ylabel('Annual Spend')\n",
    "plt.legend()\n",
    "plt.show()"
   ]
  },
  {
   "cell_type": "code",
   "execution_count": null,
   "id": "df373799",
   "metadata": {},
   "outputs": [],
   "source": []
  }
 ],
 "metadata": {
  "kernelspec": {
   "display_name": "Python 3 (ipykernel)",
   "language": "python",
   "name": "python3"
  },
  "language_info": {
   "codemirror_mode": {
    "name": "ipython",
    "version": 3
   },
   "file_extension": ".py",
   "mimetype": "text/x-python",
   "name": "python",
   "nbconvert_exporter": "python",
   "pygments_lexer": "ipython3",
   "version": "3.9.12"
  }
 },
 "nbformat": 4,
 "nbformat_minor": 5
}
